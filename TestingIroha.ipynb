{
 "cells": [
  {
   "cell_type": "code",
   "execution_count": 1,
   "metadata": {},
   "outputs": [],
   "source": [
    "import sys\n",
    "\n",
    "if sys.version_info[0] < 3:\n",
    "    raise Exception('Python 3 or a more recent version is required.')\n",
    "\n",
    "#from primitive_pb2 import can_set_my_account_detail\n",
    "from irohalib import Iroha, IrohaGrpc\n",
    "from irohalib import IrohaCrypto\n",
    "import binascii"
   ]
  },
  {
   "cell_type": "code",
   "execution_count": 8,
   "metadata": {},
   "outputs": [],
   "source": [
    "ADDRESS = 'localhost'\n",
    "admin_private_key = open('admin@test.priv').read()\n",
    "user_private_key = IrohaCrypto.private_key()\n",
    "user_public_key = IrohaCrypto.derive_public_key(user_private_key)\n",
    "iroha = Iroha('admin@test')"
   ]
  },
  {
   "cell_type": "code",
   "execution_count": 3,
   "metadata": {},
   "outputs": [],
   "source": [
    "def send_transaction_and_print_status(transaction, port):\n",
    "    hex_hash = binascii.hexlify(IrohaCrypto.hash(transaction))\n",
    "    print('Transaction hash = {}, creator = {}'.format(\n",
    "        hex_hash, transaction.payload.reduced_payload.creator_account_id))\n",
    "    net = IrohaGrpc(ADDRESS + ':' + str(port))\n",
    "    net.send_tx(transaction)\n",
    "    for status in net.tx_status_stream(transaction):\n",
    "        print(status)"
   ]
  },
  {
   "cell_type": "code",
   "execution_count": 4,
   "metadata": {},
   "outputs": [],
   "source": [
    "def create_domain_and_asset():\n",
    "    \"\"\"\n",
    "    Creates domain 'domain' and asset 'coin#domain' with precision 2\n",
    "    \"\"\"\n",
    "    commands = [\n",
    "        iroha.command('CreateDomain', domain_id='domain', default_role='user'),\n",
    "        iroha.command('CreateAsset', asset_name='coin',\n",
    "                      domain_id='domain', precision=2)\n",
    "    ]\n",
    "    tx = IrohaCrypto.sign_transaction(\n",
    "        iroha.transaction(commands), admin_private_key)\n",
    "    send_transaction_and_print_status(tx, 50051)\n"
   ]
  },
  {
   "cell_type": "code",
   "execution_count": 5,
   "metadata": {},
   "outputs": [],
   "source": [
    "def add_coin_to_admin():\n",
    "    \"\"\"\n",
    "    Add 1000.00 units of 'coin#domain' to 'admin@test'\n",
    "    \"\"\"\n",
    "    tx = iroha.transaction([\n",
    "        iroha.command('AddAssetQuantity',\n",
    "                      asset_id='coin#domain', amount='1000.00')\n",
    "    ])\n",
    "    IrohaCrypto.sign_transaction(tx, admin_private_key)\n",
    "    send_transaction_and_print_status(tx, 50051)\n"
   ]
  },
  {
   "cell_type": "code",
   "execution_count": 9,
   "metadata": {},
   "outputs": [
    {
     "name": "stdout",
     "output_type": "stream",
     "text": [
      "Transaction hash = b'7e65ddf7993ca0cc36b5de3a09d9c39f9e2d18c96a8da766e220b01491fe69dc', creator = admin@test\n",
      "('ENOUGH_SIGNATURES_COLLECTED', 9, 0)\n",
      "('STATEFUL_VALIDATION_FAILED', 2, 2)\n",
      "('REJECTED', 4, 0)\n"
     ]
    }
   ],
   "source": [
    "create_domain_and_asset()"
   ]
  },
  {
   "cell_type": "code",
   "execution_count": null,
   "metadata": {},
   "outputs": [],
   "source": [
    "def get_account_assets():\n",
    "    \"\"\"\n",
    "    List all the assets of userone@domain\n",
    "    \"\"\"\n",
    "    query = iroha.query('GetAccountAssets', account_id='admin@test')\n",
    "    IrohaCrypto.sign_query(query, admin_private_key)\n",
    "    net = IrohaGrpc(ADDRESS + ':' + str(50051))\n",
    "    response = net.send_query(query)\n",
    "    data = response.account_assets_response.account_assets\n",
    "    for asset in data:\n",
    "        print('Asset id = {}, balance = {}'.format(\n",
    "            asset.asset_id, asset.balance))"
   ]
  },
  {
   "cell_type": "code",
   "execution_count": null,
   "metadata": {},
   "outputs": [],
   "source": [
    "get_account_assets()"
   ]
  },
  {
   "cell_type": "code",
   "execution_count": null,
   "metadata": {},
   "outputs": [],
   "source": []
  },
  {
   "cell_type": "code",
   "execution_count": 10,
   "metadata": {},
   "outputs": [
    {
     "data": {
      "text/plain": [
       "b'2c0c4184858327f2fda2aa52580db19d23e6501b02b8cab79a6df53c04f345a8'"
      ]
     },
     "execution_count": 10,
     "metadata": {},
     "output_type": "execute_result"
    }
   ],
   "source": [
    "user_private_key"
   ]
  },
  {
   "cell_type": "code",
   "execution_count": 11,
   "metadata": {},
   "outputs": [
    {
     "data": {
      "text/plain": [
       "b'b477046973ae04be217983cd16acfdc669b007fd88dda341f0a7d43f9aa7e5bd'"
      ]
     },
     "execution_count": 11,
     "metadata": {},
     "output_type": "execute_result"
    }
   ],
   "source": [
    "user_public_key"
   ]
  },
  {
   "cell_type": "code",
   "execution_count": 37,
   "metadata": {},
   "outputs": [],
   "source": [
    "#!/usr/bin/env python3\n",
    "#\n",
    "# Copyright Soramitsu Co., Ltd. All Rights Reserved.\n",
    "# SPDX-License-Identifier: Apache-2.0\n",
    "#\n",
    "\n",
    "import sys\n",
    "\n",
    "if sys.version_info[0] < 3:\n",
    "    raise Exception('Python 3 or a more recent version is required.')\n",
    "\n",
    "from iroha.primitive_pb2 import can_set_my_account_detail, can_transfer_my_assets, can_transfer\n",
    "from iroha import Iroha, IrohaGrpc\n",
    "from iroha import IrohaCrypto\n",
    "import binascii\n",
    "\n",
    "admin_private_key = 'f101537e319568c765b2cc89698325604991dca57b9716b58016b253506cab70'\n",
    "iroha = Iroha('admin@test')\n",
    "net = IrohaGrpc('127.0.0.1:50051')"
   ]
  },
  {
   "cell_type": "code",
   "execution_count": 2,
   "metadata": {},
   "outputs": [],
   "source": [
    "def new_user(user_id):\n",
    "    private_key = IrohaCrypto.private_key()\n",
    "    if user_id.lower().startswith('admin'):\n",
    "        print('K{}'.format(private_key.decode('utf-8')))\n",
    "    return {\n",
    "        'id': user_id,\n",
    "        'key': private_key\n",
    "    }"
   ]
  },
  {
   "cell_type": "code",
   "execution_count": 3,
   "metadata": {},
   "outputs": [],
   "source": [
    "fabric = new_user('fabric@test')\n",
    "office = new_user('office@test')"
   ]
  },
  {
   "cell_type": "code",
   "execution_count": 4,
   "metadata": {},
   "outputs": [],
   "source": [
    "from iroha import primitive_pb2"
   ]
  },
  {
   "cell_type": "code",
   "execution_count": null,
   "metadata": {},
   "outputs": [],
   "source": [
    "# def genesis_block(admin, alice, test_permissions, multidomain=False):\n",
    "#     \"\"\"\n",
    "#     Compose a set of common for all tests' genesis block transactions\n",
    "#     :param admin: dict of id and private key of admin\n",
    "#     :param alice: dict of id and private key of alice\n",
    "#     :param test_permissions: permissions for users in test domain\n",
    "#     :param multidomain: admin and alice accounts will be created in\n",
    "#     different domains and the first domain users will have admin right\n",
    "#     by default if True\n",
    "#     :return: a list of irohalib.Iroha.command's\n",
    "#     \"\"\"\n",
    "#     peer = primitive_pb2.Peer()\n",
    "#     peer.address = '0.0.0.0:50051'\n",
    "#     peer.peer_key = admin_private_key\n",
    "#     commands = [\n",
    "#         command('AddPeer', peer=peer),\n",
    "#         command('CreateRole', role_name='admin_role', permissions=all_permissions()),\n",
    "#         command('CreateRole', role_name='test_role', permissions=test_permissions)]\n",
    "#     if multidomain:\n",
    "#         commands.append(command('CreateDomain', domain_id='first', default_role='admin_role'))\n",
    "#     commands.extend([\n",
    "#         command('CreateDomain',\n",
    "#                 domain_id='second' if multidomain else 'test',\n",
    "#                 default_role='test_role'),\n",
    "#         command('CreateAccount',\n",
    "#                 account_name='admin',\n",
    "#                 domain_id='first' if multidomain else 'test',\n",
    "#                 public_key=irohalib.IrohaCrypto.derive_public_key(admin['key'])),\n",
    "#         command('CreateAccount',\n",
    "#                 account_name='alice',\n",
    "#                 domain_id='second' if multidomain else 'test',\n",
    "#                 public_key=irohalib.IrohaCrypto.derive_public_key(alice['key']))\n",
    "#     ])\n",
    "#     if not multidomain:\n",
    "#         commands.append(command('AppendRole', account_id=admin['id'], role_name='admin_role'))\n",
    "#     return commands"
   ]
  },
  {
   "cell_type": "code",
   "execution_count": 27,
   "metadata": {},
   "outputs": [
    {
     "name": "stdout",
     "output_type": "stream",
     "text": [
      "\tEntering \"send_transaction_and_print_status\"\n",
      "Transaction hash = b'230e9a99d0a3ec2b2c33dfa29933a1d7a18f75f2134f17724afc0a6e6f2e3c00', creator = admin@test\n",
      "('ENOUGH_SIGNATURES_COLLECTED', 9, 0)\n",
      "('STATEFUL_VALIDATION_SUCCESS', 3, 0)\n",
      "('COMMITTED', 5, 0)\n",
      "\tLeaving \"send_transaction_and_print_status\"\n"
     ]
    }
   ],
   "source": [
    "test_permissions = [\n",
    "        primitive_pb2.can_grant_can_transfer_my_assets,\n",
    "        primitive_pb2.can_receive,\n",
    "        primitive_pb2.can_transfer\n",
    "    ]\n",
    "genesis_commands = []#commons.genesis_block(admin, alice, test_permissions)\n",
    "genesis_commands.extend([\n",
    "#      iroha.command('CreateAccount', account_name='fabric', domain_id='test',\n",
    "#                    public_key=IrohaCrypto.derive_public_key(fabric['key'])),\n",
    "     #iroha.command('CreateAsset', asset_name='coin', domain_id='test', precision=2),\n",
    "    #iroha.command('AddAssetQuantity', asset_id='coin#test', amount='100.00'),\n",
    "    iroha.command('TransferAsset',\n",
    "                  src_account_id='admin@test',\n",
    "                  dest_account_id=fabric['id'],\n",
    "                  asset_id='coin#test',\n",
    "                  description='init top up',\n",
    "                  amount='10.00')\n",
    "])\n",
    "tx = iroha.transaction(genesis_commands)\n",
    "IrohaCrypto.sign_transaction(tx, admin_private_key)\n",
    "send_transaction_and_print_status(tx)"
   ]
  },
  {
   "cell_type": "code",
   "execution_count": 25,
   "metadata": {},
   "outputs": [
    {
     "name": "stdout",
     "output_type": "stream",
     "text": [
      "\tEntering \"send_transaction_and_print_status\"\n",
      "Transaction hash = b'898372e0b5b80b0225ad9d0b9e0c7ec21a416a8b5231afb4a6f51b2acebd92a8', creator = admin@test\n",
      "('ENOUGH_SIGNATURES_COLLECTED', 9, 0)\n",
      "('STATEFUL_VALIDATION_SUCCESS', 3, 0)\n",
      "('COMMITTED', 5, 0)\n",
      "\tLeaving \"send_transaction_and_print_status\"\n"
     ]
    }
   ],
   "source": [
    "tx = iroha.transaction([\n",
    "        iroha.command('GrantPermission', account_id=fabric['id'], permission=primitive_pb2.can_transfer_my_assets)\n",
    "    ], creator_account='admin@test')\n",
    "IrohaCrypto.sign_transaction(tx, admin_private_key)\n",
    "send_transaction_and_print_status(tx)"
   ]
  },
  {
   "cell_type": "code",
   "execution_count": 42,
   "metadata": {},
   "outputs": [],
   "source": [
    "iroha = Iroha('fabric@test')"
   ]
  },
  {
   "cell_type": "code",
   "execution_count": 33,
   "metadata": {},
   "outputs": [
    {
     "name": "stdout",
     "output_type": "stream",
     "text": [
      "\tEntering \"send_transaction_and_print_status\"\n",
      "Transaction hash = b'a2a93c05613d3f15e821964b3e15c89dc9b519a686a68964a50ba566fbe986f8', creator = office@test\n",
      "('ENOUGH_SIGNATURES_COLLECTED', 9, 0)\n",
      "('STATEFUL_VALIDATION_SUCCESS', 3, 0)\n",
      "('COMMITTED', 5, 0)\n",
      "\tLeaving \"send_transaction_and_print_status\"\n"
     ]
    }
   ],
   "source": [
    "tx = iroha.transaction([\n",
    "        iroha.command('TransferAsset',\n",
    "                      src_account_id=office['id'],\n",
    "                      dest_account_id=fabric['id'],\n",
    "                      asset_id='coin#test',\n",
    "                      description='transfer from Alice to Admin by Bob',\n",
    "                      amount='1.00')\n",
    "    ])\n",
    "IrohaCrypto.sign_transaction(tx, office['key'])\n",
    "send_transaction_and_print_status(tx)"
   ]
  },
  {
   "cell_type": "code",
   "execution_count": 6,
   "metadata": {},
   "outputs": [],
   "source": [
    "def trace(func):\n",
    "    \"\"\"\n",
    "    A decorator for tracing methods' begin/end execution points\n",
    "    \"\"\"\n",
    "\n",
    "    def tracer(*args, **kwargs):\n",
    "        name = func.__name__\n",
    "        print('\\tEntering \"{}\"'.format(name))\n",
    "        result = func(*args, **kwargs)\n",
    "        print('\\tLeaving \"{}\"'.format(name))\n",
    "        return result\n",
    "\n",
    "    return tracer"
   ]
  },
  {
   "cell_type": "code",
   "execution_count": 7,
   "metadata": {},
   "outputs": [],
   "source": [
    "@trace\n",
    "def send_transaction_and_print_status(transaction):\n",
    "    hex_hash = binascii.hexlify(IrohaCrypto.hash(transaction))\n",
    "    print('Transaction hash = {}, creator = {}'.format(\n",
    "        hex_hash, transaction.payload.reduced_payload.creator_account_id))\n",
    "    net.send_tx(transaction)\n",
    "    for status in net.tx_status_stream(transaction):\n",
    "        print(status)"
   ]
  },
  {
   "cell_type": "code",
   "execution_count": null,
   "metadata": {},
   "outputs": [],
   "source": [
    "@trace\n",
    "def create_domain_and_asset():\n",
    "    \"\"\"\n",
    "    Creates domain 'domain' and asset 'coin#domain' with precision 2\n",
    "    \"\"\"\n",
    "    commands = [\n",
    "        iroha.command('CreateDomain', domain_id='domain', default_role='user'),\n",
    "        iroha.command('CreateAsset', asset_name='coin',\n",
    "                      domain_id='domain', precision=2)\n",
    "    ]\n",
    "    tx = IrohaCrypto.sign_transaction(\n",
    "        iroha.transaction(commands), admin_private_key)\n",
    "    send_transaction_and_print_status(tx)\n",
    "\n",
    "\n",
    "@trace\n",
    "def add_coin_to_admin():\n",
    "    \"\"\"\n",
    "    Add 1000.00 units of 'coin#domain' to 'admin@test'\n",
    "    \"\"\"\n",
    "    tx = iroha.transaction([\n",
    "        iroha.command('AddAssetQuantity',\n",
    "                      asset_id='coin#domain', amount='1000.00')\n",
    "    ])\n",
    "    IrohaCrypto.sign_transaction(tx, admin_private_key)\n",
    "    send_transaction_and_print_status(tx)\n",
    "\n",
    "\n",
    "@trace\n",
    "def create_account_userone():\n",
    "    \"\"\"\n",
    "    Create account 'userone@domain'\n",
    "    \"\"\"\n",
    "    tx = iroha.transaction([\n",
    "        iroha.command('CreateAccount', account_name='office', domain_id='domain',\n",
    "                      public_key=user_public_key)\n",
    "    ])\n",
    "    IrohaCrypto.sign_transaction(tx, admin_private_key)\n",
    "    send_transaction_and_print_status(tx)\n",
    "\n",
    "\n",
    "@trace\n",
    "def transfer_coin_from_admin_to_userone():\n",
    "    \"\"\"\n",
    "    Transfer 2.00 'coin#domain' from 'admin@test' to 'userone@domain'\n",
    "    \"\"\"\n",
    "    tx = iroha.transaction([\n",
    "        iroha.command('TransferAsset', src_account_id='admin@test', dest_account_id='fabric@domain',\n",
    "                      asset_id='coin#domain', description='init top up', amount='320.00')\n",
    "    ])\n",
    "    IrohaCrypto.sign_transaction(tx, admin_private_key)\n",
    "    send_transaction_and_print_status(tx)\n",
    "\n",
    "\n",
    "@trace\n",
    "def userone_grants_to_admin_set_account_detail_permission():\n",
    "    \"\"\"\n",
    "    Make admin@test able to set detail to userone@domain\n",
    "    \"\"\"\n",
    "    tx = iroha.transaction([\n",
    "        iroha.command('GrantPermission', account_id='admin@test',\n",
    "                      permission=can_set_my_account_detail)\n",
    "    ], creator_account='userone@domain')\n",
    "    IrohaCrypto.sign_transaction(tx, user_private_key)\n",
    "    send_transaction_and_print_status(tx)\n",
    "\n",
    "\n",
    "@trace\n",
    "def set_age_to_userone():\n",
    "    \"\"\"\n",
    "    Set age to userone@domain by admin@test\n",
    "    \"\"\"\n",
    "    tx = iroha.transaction([\n",
    "        iroha.command('SetAccountDetail',\n",
    "                      account_id='userone@domain', key='age', value='18')\n",
    "    ])\n",
    "    IrohaCrypto.sign_transaction(tx, admin_private_key)\n",
    "    send_transaction_and_print_status(tx)\n",
    "\n",
    "\n",
    "@trace\n",
    "def get_coin_info():\n",
    "    \"\"\"\n",
    "    Get asset info for coin#domain\n",
    "    :return:\n",
    "    \"\"\"\n",
    "    query = iroha.query('GetAssetInfo', asset_id='coin#domain')\n",
    "    IrohaCrypto.sign_query(query, admin_private_key)\n",
    "\n",
    "    response = net.send_query(query)\n",
    "    data = response.asset_response.asset\n",
    "    print('Asset id = {}, precision = {}'.format(data.asset_id, data.precision))"
   ]
  },
  {
   "cell_type": "code",
   "execution_count": 39,
   "metadata": {},
   "outputs": [],
   "source": [
    "@trace\n",
    "def get_account_assets():\n",
    "    \"\"\"\n",
    "    List all the assets of userone@domain\n",
    "    \"\"\"\n",
    "    query = iroha.query('GetAccountAssets', account_id='fabric@test', creator_account='fabric@test')\n",
    "    IrohaCrypto.sign_query(query, office['key'])\n",
    "\n",
    "    response = net.send_query(query)\n",
    "    data = response.account_assets_response.account_assets\n",
    "    for asset in data:\n",
    "        print('Asset id = {}, balance = {}'.format(\n",
    "            asset.asset_id, asset.balance))"
   ]
  },
  {
   "cell_type": "code",
   "execution_count": 85,
   "metadata": {},
   "outputs": [],
   "source": [
    "@trace\n",
    "def get_userone_details():\n",
    "    \"\"\"\n",
    "    Get all the kv-storage entries for userone@domain\n",
    "    \"\"\"\n",
    "    query = iroha.query('GetAccountDetail', account_id='userone@domain')\n",
    "    IrohaCrypto.sign_query(query, admin_private_key)\n",
    "\n",
    "    response = net.send_query(query)\n",
    "    data = response.account_detail_response\n",
    "    print('Account id = {}, details = {}'.format('userone@domain', data.detail))"
   ]
  },
  {
   "cell_type": "code",
   "execution_count": 77,
   "metadata": {},
   "outputs": [
    {
     "name": "stdout",
     "output_type": "stream",
     "text": [
      "\tEntering \"create_domain_and_asset\"\n",
      "\tEntering \"send_transaction_and_print_status\"\n",
      "Transaction hash = b'286c4a8a39b25fbd34cf3efcadd3964ca9dbedbe1002e47e8254e7457467b9d2', creator = admin@test\n",
      "('ENOUGH_SIGNATURES_COLLECTED', 9, 0)\n",
      "('STATEFUL_VALIDATION_SUCCESS', 3, 0)\n",
      "('COMMITTED', 5, 0)\n",
      "\tLeaving \"send_transaction_and_print_status\"\n",
      "\tLeaving \"create_domain_and_asset\"\n"
     ]
    }
   ],
   "source": [
    "create_domain_and_asset()"
   ]
  },
  {
   "cell_type": "code",
   "execution_count": 78,
   "metadata": {},
   "outputs": [
    {
     "name": "stdout",
     "output_type": "stream",
     "text": [
      "\tEntering \"add_coin_to_admin\"\n",
      "\tEntering \"send_transaction_and_print_status\"\n",
      "Transaction hash = b'6a053b634829253b78f05ba7621ae9613d40a5e6b24fcb88147992ac0ae9a27c', creator = admin@test\n",
      "('ENOUGH_SIGNATURES_COLLECTED', 9, 0)\n",
      "('STATEFUL_VALIDATION_SUCCESS', 3, 0)\n",
      "('COMMITTED', 5, 0)\n",
      "\tLeaving \"send_transaction_and_print_status\"\n",
      "\tLeaving \"add_coin_to_admin\"\n"
     ]
    }
   ],
   "source": [
    "add_coin_to_admin()"
   ]
  },
  {
   "cell_type": "code",
   "execution_count": 84,
   "metadata": {},
   "outputs": [
    {
     "name": "stdout",
     "output_type": "stream",
     "text": [
      "\tEntering \"create_account_userone\"\n",
      "\tEntering \"send_transaction_and_print_status\"\n",
      "Transaction hash = b'14f9dfa3f1ed99be7d57b861630a5e63c79863e5443bb5666603dd2f21526a5a', creator = admin@test\n",
      "('ENOUGH_SIGNATURES_COLLECTED', 9, 0)\n",
      "('STATEFUL_VALIDATION_SUCCESS', 3, 0)\n",
      "('COMMITTED', 5, 0)\n",
      "\tLeaving \"send_transaction_and_print_status\"\n",
      "\tLeaving \"create_account_userone\"\n"
     ]
    }
   ],
   "source": [
    "create_account_userone()"
   ]
  },
  {
   "cell_type": "code",
   "execution_count": 86,
   "metadata": {},
   "outputs": [
    {
     "name": "stdout",
     "output_type": "stream",
     "text": [
      "\tEntering \"transfer_coin_from_admin_to_userone\"\n",
      "\tEntering \"send_transaction_and_print_status\"\n",
      "Transaction hash = b'5fe94024b69e9e06c97a3bbadb7c48f53b9124750d65feb67182f74c34e297a2', creator = admin@test\n",
      "('ENOUGH_SIGNATURES_COLLECTED', 9, 0)\n",
      "('STATEFUL_VALIDATION_SUCCESS', 3, 0)\n",
      "('COMMITTED', 5, 0)\n",
      "\tLeaving \"send_transaction_and_print_status\"\n",
      "\tLeaving \"transfer_coin_from_admin_to_userone\"\n"
     ]
    }
   ],
   "source": [
    "transfer_coin_from_admin_to_userone()"
   ]
  },
  {
   "cell_type": "code",
   "execution_count": 15,
   "metadata": {},
   "outputs": [
    {
     "name": "stdout",
     "output_type": "stream",
     "text": [
      "\tEntering \"userone_grants_to_admin_set_account_detail_permission\"\n",
      "\tEntering \"send_transaction_and_print_status\"\n",
      "Transaction hash = b'1411d3d83e736e692a4e05c35d589809d82c34c01763fed22306421f7ff014fa', creator = userone@domain\n",
      "('ENOUGH_SIGNATURES_COLLECTED', 9, 0)\n",
      "('STATEFUL_VALIDATION_SUCCESS', 3, 0)\n",
      "('COMMITTED', 5, 0)\n",
      "\tLeaving \"send_transaction_and_print_status\"\n",
      "\tLeaving \"userone_grants_to_admin_set_account_detail_permission\"\n"
     ]
    }
   ],
   "source": [
    "userone_grants_to_admin_set_account_detail_permission()"
   ]
  },
  {
   "cell_type": "code",
   "execution_count": 94,
   "metadata": {},
   "outputs": [],
   "source": [
    "def userone_grants_to_admin_set_account_detail_permission():\n",
    "    \"\"\"\n",
    "    Make admin@test able to set detail to userone@domain\n",
    "    \"\"\"\n",
    "    tx = iroha.transaction([\n",
    "        iroha.command('GrantPermission', account_id='fabric@domain',\n",
    "                      permission=can_transfer_my_assets)\n",
    "    ], creator_account='admin@test')\n",
    "    IrohaCrypto.sign_transaction(tx, admin_private_key)\n",
    "    send_transaction_and_print_status(tx)"
   ]
  },
  {
   "cell_type": "code",
   "execution_count": 95,
   "metadata": {},
   "outputs": [
    {
     "name": "stdout",
     "output_type": "stream",
     "text": [
      "\tEntering \"send_transaction_and_print_status\"\n",
      "Transaction hash = b'98790ea9beacc98a77d73c7755436cc9506837900004e0725682c24bffa91ea4', creator = admin@test\n",
      "('ENOUGH_SIGNATURES_COLLECTED', 9, 0)\n",
      "('STATEFUL_VALIDATION_SUCCESS', 3, 0)\n",
      "('COMMITTED', 5, 0)\n",
      "\tLeaving \"send_transaction_and_print_status\"\n"
     ]
    }
   ],
   "source": [
    "userone_grants_to_admin_set_account_detail_permission()"
   ]
  },
  {
   "cell_type": "code",
   "execution_count": null,
   "metadata": {},
   "outputs": [],
   "source": [
    "set_age_to_userone()\n",
    "get_coin_info()"
   ]
  },
  {
   "cell_type": "code",
   "execution_count": 41,
   "metadata": {},
   "outputs": [
    {
     "name": "stdout",
     "output_type": "stream",
     "text": [
      "\tEntering \"get_account_assets\"\n",
      "\tLeaving \"get_account_assets\"\n"
     ]
    }
   ],
   "source": [
    "get_account_assets()"
   ]
  },
  {
   "cell_type": "code",
   "execution_count": 45,
   "metadata": {},
   "outputs": [],
   "source": [
    "def transfer_coin_from_admin_to_userone():\n",
    "    \"\"\"\n",
    "    Transfer 2.00 'coin#domain' from 'admin@test' to 'userone@domain'\n",
    "    \"\"\"\n",
    "    tx = iroha.transaction([\n",
    "        iroha.command('TransferAsset', src_account_id='fabric@test', dest_account_id='office@test',\n",
    "                      asset_id='good#test', description='init top up', amount='2.00')\n",
    "    ])\n",
    "    IrohaCrypto.sign_transaction(tx, \"b79bd03b5e7521b9fe1fb42e5b10364d41db73dae1655cb67f892f254cc03b3b\")\n",
    "    send_transaction_and_print_status(tx)"
   ]
  },
  {
   "cell_type": "code",
   "execution_count": 46,
   "metadata": {},
   "outputs": [
    {
     "name": "stdout",
     "output_type": "stream",
     "text": [
      "\tEntering \"send_transaction_and_print_status\"\n",
      "Transaction hash = b'bd954d8e559bc67ef6b32fbea4a2fab859d0c956233ffdb769b211ed53c01048', creator = fabric@test\n",
      "('ENOUGH_SIGNATURES_COLLECTED', 9, 0)\n",
      "('STATEFUL_VALIDATION_FAILED', 2, 2)\n",
      "('REJECTED', 4, 0)\n",
      "\tLeaving \"send_transaction_and_print_status\"\n"
     ]
    }
   ],
   "source": [
    "transfer_coin_from_admin_to_userone()"
   ]
  },
  {
   "cell_type": "code",
   "execution_count": null,
   "metadata": {},
   "outputs": [],
   "source": []
  }
 ],
 "metadata": {
  "kernelspec": {
   "display_name": "Python 3",
   "language": "python",
   "name": "python3"
  },
  "language_info": {
   "codemirror_mode": {
    "name": "ipython",
    "version": 3
   },
   "file_extension": ".py",
   "mimetype": "text/x-python",
   "name": "python",
   "nbconvert_exporter": "python",
   "pygments_lexer": "ipython3",
   "version": "3.7.1"
  }
 },
 "nbformat": 4,
 "nbformat_minor": 2
}
