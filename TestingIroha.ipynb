{
 "cells": [
  {
   "cell_type": "code",
   "execution_count": 1,
   "metadata": {},
   "outputs": [],
   "source": [
    "import sys\n",
    "\n",
    "if sys.version_info[0] < 3:\n",
    "    raise Exception('Python 3 or a more recent version is required.')\n",
    "\n",
    "#from primitive_pb2 import can_set_my_account_detail\n",
    "from irohalib import Iroha, IrohaGrpc\n",
    "from irohalib import IrohaCrypto\n",
    "import binascii"
   ]
  },
  {
   "cell_type": "code",
   "execution_count": 8,
   "metadata": {},
   "outputs": [],
   "source": [
    "ADDRESS = 'localhost'\n",
    "admin_private_key = open('admin@test.priv').read()\n",
    "user_private_key = IrohaCrypto.private_key()\n",
    "user_public_key = IrohaCrypto.derive_public_key(user_private_key)\n",
    "iroha = Iroha('admin@test')"
   ]
  },
  {
   "cell_type": "code",
   "execution_count": 3,
   "metadata": {},
   "outputs": [],
   "source": [
    "def send_transaction_and_print_status(transaction, port):\n",
    "    hex_hash = binascii.hexlify(IrohaCrypto.hash(transaction))\n",
    "    print('Transaction hash = {}, creator = {}'.format(\n",
    "        hex_hash, transaction.payload.reduced_payload.creator_account_id))\n",
    "    net = IrohaGrpc(ADDRESS + ':' + str(port))\n",
    "    net.send_tx(transaction)\n",
    "    for status in net.tx_status_stream(transaction):\n",
    "        print(status)"
   ]
  },
  {
   "cell_type": "code",
   "execution_count": 4,
   "metadata": {},
   "outputs": [],
   "source": [
    "def create_domain_and_asset():\n",
    "    \"\"\"\n",
    "    Creates domain 'domain' and asset 'coin#domain' with precision 2\n",
    "    \"\"\"\n",
    "    commands = [\n",
    "        iroha.command('CreateDomain', domain_id='domain', default_role='user'),\n",
    "        iroha.command('CreateAsset', asset_name='coin',\n",
    "                      domain_id='domain', precision=2)\n",
    "    ]\n",
    "    tx = IrohaCrypto.sign_transaction(\n",
    "        iroha.transaction(commands), admin_private_key)\n",
    "    send_transaction_and_print_status(tx, 50051)\n"
   ]
  },
  {
   "cell_type": "code",
   "execution_count": 5,
   "metadata": {},
   "outputs": [],
   "source": [
    "def add_coin_to_admin():\n",
    "    \"\"\"\n",
    "    Add 1000.00 units of 'coin#domain' to 'admin@test'\n",
    "    \"\"\"\n",
    "    tx = iroha.transaction([\n",
    "        iroha.command('AddAssetQuantity',\n",
    "                      asset_id='coin#domain', amount='1000.00')\n",
    "    ])\n",
    "    IrohaCrypto.sign_transaction(tx, admin_private_key)\n",
    "    send_transaction_and_print_status(tx, 50051)\n"
   ]
  },
  {
   "cell_type": "code",
   "execution_count": 9,
   "metadata": {},
   "outputs": [
    {
     "name": "stdout",
     "output_type": "stream",
     "text": [
      "Transaction hash = b'7e65ddf7993ca0cc36b5de3a09d9c39f9e2d18c96a8da766e220b01491fe69dc', creator = admin@test\n",
      "('ENOUGH_SIGNATURES_COLLECTED', 9, 0)\n",
      "('STATEFUL_VALIDATION_FAILED', 2, 2)\n",
      "('REJECTED', 4, 0)\n"
     ]
    }
   ],
   "source": [
    "create_domain_and_asset()"
   ]
  },
  {
   "cell_type": "code",
   "execution_count": null,
   "metadata": {},
   "outputs": [],
   "source": [
    "def get_account_assets():\n",
    "    \"\"\"\n",
    "    List all the assets of userone@domain\n",
    "    \"\"\"\n",
    "    query = iroha.query('GetAccountAssets', account_id='admin@test')\n",
    "    IrohaCrypto.sign_query(query, admin_private_key)\n",
    "    net = IrohaGrpc(ADDRESS + ':' + str(50051))\n",
    "    response = net.send_query(query)\n",
    "    data = response.account_assets_response.account_assets\n",
    "    for asset in data:\n",
    "        print('Asset id = {}, balance = {}'.format(\n",
    "            asset.asset_id, asset.balance))"
   ]
  },
  {
   "cell_type": "code",
   "execution_count": null,
   "metadata": {},
   "outputs": [],
   "source": [
    "get_account_assets()"
   ]
  },
  {
   "cell_type": "code",
   "execution_count": null,
   "metadata": {},
   "outputs": [],
   "source": []
  },
  {
   "cell_type": "code",
   "execution_count": 10,
   "metadata": {},
   "outputs": [
    {
     "data": {
      "text/plain": [
       "b'2c0c4184858327f2fda2aa52580db19d23e6501b02b8cab79a6df53c04f345a8'"
      ]
     },
     "execution_count": 10,
     "metadata": {},
     "output_type": "execute_result"
    }
   ],
   "source": [
    "user_private_key"
   ]
  },
  {
   "cell_type": "code",
   "execution_count": 11,
   "metadata": {},
   "outputs": [
    {
     "data": {
      "text/plain": [
       "b'b477046973ae04be217983cd16acfdc669b007fd88dda341f0a7d43f9aa7e5bd'"
      ]
     },
     "execution_count": 11,
     "metadata": {},
     "output_type": "execute_result"
    }
   ],
   "source": [
    "user_public_key"
   ]
  },
  {
   "cell_type": "code",
   "execution_count": 47,
   "metadata": {},
   "outputs": [],
   "source": [
    "#!/usr/bin/env python3\n",
    "#\n",
    "# Copyright Soramitsu Co., Ltd. All Rights Reserved.\n",
    "# SPDX-License-Identifier: Apache-2.0\n",
    "#\n",
    "\n",
    "import sys\n",
    "\n",
    "if sys.version_info[0] < 3:\n",
    "    raise Exception('Python 3 or a more recent version is required.')\n",
    "\n",
    "from iroha.primitive_pb2 import can_set_my_account_detail, can_transfer_my_assets, can_transfer\n",
    "from iroha import Iroha, IrohaGrpc\n",
    "from iroha import IrohaCrypto\n",
    "import binascii\n",
    "\n",
    "admin_private_key = 'f101537e319568c765b2cc89698325604991dca57b9716b58016b253506cab70'\n",
    "user_private_key = IrohaCrypto.private_key()\n",
    "user_public_key = IrohaCrypto.derive_public_key(user_private_key)\n",
    "iroha = Iroha('admin@test')\n",
    "net = IrohaGrpc('127.0.0.1:50051')"
   ]
  },
  {
   "cell_type": "code",
   "execution_count": 26,
   "metadata": {},
   "outputs": [],
   "source": [
    "#FABRIC"
   ]
  },
  {
   "cell_type": "code",
   "execution_count": 20,
   "metadata": {},
   "outputs": [
    {
     "data": {
      "text/plain": [
       "b'3992eeb363b745f926aa514bdc10f41a5a904e5083bb2c7857ab299331e294cb'"
      ]
     },
     "execution_count": 20,
     "metadata": {},
     "output_type": "execute_result"
    }
   ],
   "source": [
    "user_private_key"
   ]
  },
  {
   "cell_type": "code",
   "execution_count": 21,
   "metadata": {},
   "outputs": [
    {
     "data": {
      "text/plain": [
       "b'b4998f0dbe1c46eeca561595b970d20de91ed7a3872607288436a833c81ddc9a'"
      ]
     },
     "execution_count": 21,
     "metadata": {},
     "output_type": "execute_result"
    }
   ],
   "source": [
    "user_public_key"
   ]
  },
  {
   "cell_type": "code",
   "execution_count": 28,
   "metadata": {},
   "outputs": [],
   "source": [
    "#OFFICE"
   ]
  },
  {
   "cell_type": "code",
   "execution_count": 29,
   "metadata": {},
   "outputs": [
    {
     "data": {
      "text/plain": [
       "b'9c940a6cd34ae6080ddac6c887197d74fdd8daf80869f9713841064857b20b03'"
      ]
     },
     "execution_count": 29,
     "metadata": {},
     "output_type": "execute_result"
    }
   ],
   "source": [
    "user_private_key"
   ]
  },
  {
   "cell_type": "code",
   "execution_count": 30,
   "metadata": {},
   "outputs": [
    {
     "data": {
      "text/plain": [
       "b'df4d0d19e28d96d35f64554791a633dfb89c92d4da0736949bd56d4e44d7cc2d'"
      ]
     },
     "execution_count": 30,
     "metadata": {},
     "output_type": "execute_result"
    }
   ],
   "source": [
    "user_public_key"
   ]
  },
  {
   "cell_type": "code",
   "execution_count": 42,
   "metadata": {},
   "outputs": [],
   "source": [
    "def trace(func):\n",
    "    \"\"\"\n",
    "    A decorator for tracing methods' begin/end execution points\n",
    "    \"\"\"\n",
    "\n",
    "    def tracer(*args, **kwargs):\n",
    "        name = func.__name__\n",
    "        print('\\tEntering \"{}\"'.format(name))\n",
    "        result = func(*args, **kwargs)\n",
    "        print('\\tLeaving \"{}\"'.format(name))\n",
    "        return result\n",
    "\n",
    "    return tracer\n",
    "\n",
    "\n",
    "@trace\n",
    "def send_transaction_and_print_status(transaction):\n",
    "    hex_hash = binascii.hexlify(IrohaCrypto.hash(transaction))\n",
    "    print('Transaction hash = {}, creator = {}'.format(\n",
    "        hex_hash, transaction.payload.reduced_payload.creator_account_id))\n",
    "    net.send_tx(transaction)\n",
    "    for status in net.tx_status_stream(transaction):\n",
    "        print(status)\n",
    "\n",
    "\n",
    "@trace\n",
    "def create_domain_and_asset():\n",
    "    \"\"\"\n",
    "    Creates domain 'domain' and asset 'coin#domain' with precision 2\n",
    "    \"\"\"\n",
    "    commands = [\n",
    "        iroha.command('CreateDomain', domain_id='domain', default_role='user'),\n",
    "        iroha.command('CreateAsset', asset_name='coin',\n",
    "                      domain_id='domain', precision=2)\n",
    "    ]\n",
    "    tx = IrohaCrypto.sign_transaction(\n",
    "        iroha.transaction(commands), admin_private_key)\n",
    "    send_transaction_and_print_status(tx)\n",
    "\n",
    "\n",
    "@trace\n",
    "def add_coin_to_admin():\n",
    "    \"\"\"\n",
    "    Add 1000.00 units of 'coin#domain' to 'admin@test'\n",
    "    \"\"\"\n",
    "    tx = iroha.transaction([\n",
    "        iroha.command('AddAssetQuantity',\n",
    "                      asset_id='coin#domain', amount='1000.00')\n",
    "    ])\n",
    "    IrohaCrypto.sign_transaction(tx, admin_private_key)\n",
    "    send_transaction_and_print_status(tx)\n",
    "\n",
    "\n",
    "@trace\n",
    "def create_account_userone():\n",
    "    \"\"\"\n",
    "    Create account 'userone@domain'\n",
    "    \"\"\"\n",
    "    tx = iroha.transaction([\n",
    "        iroha.command('CreateAccount', account_name='office', domain_id='domain',\n",
    "                      public_key=user_public_key)\n",
    "    ])\n",
    "    IrohaCrypto.sign_transaction(tx, admin_private_key)\n",
    "    send_transaction_and_print_status(tx)\n",
    "\n",
    "\n",
    "@trace\n",
    "def transfer_coin_from_admin_to_userone():\n",
    "    \"\"\"\n",
    "    Transfer 2.00 'coin#domain' from 'admin@test' to 'userone@domain'\n",
    "    \"\"\"\n",
    "    tx = iroha.transaction([\n",
    "        iroha.command('TransferAsset', src_account_id='admin@test', dest_account_id='office@domain',\n",
    "                      asset_id='coin#domain', description='init top up', amount='3.00')\n",
    "    ])\n",
    "    IrohaCrypto.sign_transaction(tx, admin_private_key)\n",
    "    send_transaction_and_print_status(tx)\n",
    "\n",
    "\n",
    "@trace\n",
    "def userone_grants_to_admin_set_account_detail_permission():\n",
    "    \"\"\"\n",
    "    Make admin@test able to set detail to userone@domain\n",
    "    \"\"\"\n",
    "    tx = iroha.transaction([\n",
    "        iroha.command('GrantPermission', account_id='admin@test',\n",
    "                      permission=can_set_my_account_detail)\n",
    "    ], creator_account='userone@domain')\n",
    "    IrohaCrypto.sign_transaction(tx, user_private_key)\n",
    "    send_transaction_and_print_status(tx)\n",
    "\n",
    "\n",
    "@trace\n",
    "def set_age_to_userone():\n",
    "    \"\"\"\n",
    "    Set age to userone@domain by admin@test\n",
    "    \"\"\"\n",
    "    tx = iroha.transaction([\n",
    "        iroha.command('SetAccountDetail',\n",
    "                      account_id='userone@domain', key='age', value='18')\n",
    "    ])\n",
    "    IrohaCrypto.sign_transaction(tx, admin_private_key)\n",
    "    send_transaction_and_print_status(tx)\n",
    "\n",
    "\n",
    "@trace\n",
    "def get_coin_info():\n",
    "    \"\"\"\n",
    "    Get asset info for coin#domain\n",
    "    :return:\n",
    "    \"\"\"\n",
    "    query = iroha.query('GetAssetInfo', asset_id='coin#domain')\n",
    "    IrohaCrypto.sign_query(query, admin_private_key)\n",
    "\n",
    "    response = net.send_query(query)\n",
    "    data = response.asset_response.asset\n",
    "    print('Asset id = {}, precision = {}'.format(data.asset_id, data.precision))\n",
    "\n",
    "\n",
    "@trace\n",
    "def get_account_assets():\n",
    "    \"\"\"\n",
    "    List all the assets of userone@domain\n",
    "    \"\"\"\n",
    "    query = iroha.query('GetAccountAssets', account_id='fabric@domain')\n",
    "    IrohaCrypto.sign_query(query, admin_private_key)\n",
    "\n",
    "    response = net.send_query(query)\n",
    "    data = response.account_assets_response.account_assets\n",
    "    for asset in data:\n",
    "        print('Asset id = {}, balance = {}'.format(\n",
    "            asset.asset_id, asset.balance))\n",
    "\n",
    "\n",
    "@trace\n",
    "def get_userone_details():\n",
    "    \"\"\"\n",
    "    Get all the kv-storage entries for userone@domain\n",
    "    \"\"\"\n",
    "    query = iroha.query('GetAccountDetail', account_id='userone@domain')\n",
    "    IrohaCrypto.sign_query(query, admin_private_key)\n",
    "\n",
    "    response = net.send_query(query)\n",
    "    data = response.account_detail_response\n",
    "    print('Account id = {}, details = {}'.format('userone@domain', data.detail))"
   ]
  },
  {
   "cell_type": "code",
   "execution_count": 52,
   "metadata": {},
   "outputs": [],
   "source": [
    "user_private_key = IrohaCrypto.private_key()\n",
    "user_public_key = IrohaCrypto.derive_public_key(user_private_key)"
   ]
  },
  {
   "cell_type": "code",
   "execution_count": 23,
   "metadata": {},
   "outputs": [
    {
     "name": "stdout",
     "output_type": "stream",
     "text": [
      "\tEntering \"create_domain_and_asset\"\n",
      "\tEntering \"send_transaction_and_print_status\"\n",
      "Transaction hash = b'ef85fa85330695c8698e3ca48335a2d4d180d0f148827249adf25ffec283aa00', creator = admin@test\n",
      "('ENOUGH_SIGNATURES_COLLECTED', 9, 0)\n",
      "('STATEFUL_VALIDATION_SUCCESS', 3, 0)\n",
      "('COMMITTED', 5, 0)\n",
      "\tLeaving \"send_transaction_and_print_status\"\n",
      "\tLeaving \"create_domain_and_asset\"\n"
     ]
    }
   ],
   "source": [
    "create_domain_and_asset()"
   ]
  },
  {
   "cell_type": "code",
   "execution_count": 33,
   "metadata": {},
   "outputs": [
    {
     "name": "stdout",
     "output_type": "stream",
     "text": [
      "\tEntering \"add_coin_to_admin\"\n",
      "\tEntering \"send_transaction_and_print_status\"\n",
      "Transaction hash = b'cb23dd0520e8a9985d76f8249b7f9c42d1711a5a11eab31157a36f1466666741', creator = admin@test\n",
      "('ENOUGH_SIGNATURES_COLLECTED', 9, 0)\n",
      "('STATEFUL_VALIDATION_SUCCESS', 3, 0)\n",
      "('COMMITTED', 5, 0)\n",
      "\tLeaving \"send_transaction_and_print_status\"\n",
      "\tLeaving \"add_coin_to_admin\"\n"
     ]
    }
   ],
   "source": [
    "add_coin_to_admin()"
   ]
  },
  {
   "cell_type": "code",
   "execution_count": 32,
   "metadata": {},
   "outputs": [
    {
     "name": "stdout",
     "output_type": "stream",
     "text": [
      "\tEntering \"create_account_userone\"\n",
      "\tEntering \"send_transaction_and_print_status\"\n",
      "Transaction hash = b'de6516fa2f2ea6e65833be7e0eacb2220595fabc44b3dcbb7b6d983b570b80f7', creator = admin@test\n",
      "('ENOUGH_SIGNATURES_COLLECTED', 9, 0)\n",
      "('STATEFUL_VALIDATION_SUCCESS', 3, 0)\n",
      "('COMMITTED', 5, 0)\n",
      "\tLeaving \"send_transaction_and_print_status\"\n",
      "\tLeaving \"create_account_userone\"\n"
     ]
    }
   ],
   "source": [
    "create_account_userone()"
   ]
  },
  {
   "cell_type": "code",
   "execution_count": 43,
   "metadata": {},
   "outputs": [
    {
     "name": "stdout",
     "output_type": "stream",
     "text": [
      "\tEntering \"transfer_coin_from_admin_to_userone\"\n",
      "\tEntering \"send_transaction_and_print_status\"\n",
      "Transaction hash = b'934310de2496d35881116d7307617ed2654b67229327e053e306b96c21aac15b', creator = admin@test\n",
      "('ENOUGH_SIGNATURES_COLLECTED', 9, 0)\n",
      "('STATEFUL_VALIDATION_SUCCESS', 3, 0)\n",
      "('COMMITTED', 5, 0)\n",
      "\tLeaving \"send_transaction_and_print_status\"\n",
      "\tLeaving \"transfer_coin_from_admin_to_userone\"\n"
     ]
    }
   ],
   "source": [
    "transfer_coin_from_admin_to_userone()"
   ]
  },
  {
   "cell_type": "code",
   "execution_count": 15,
   "metadata": {},
   "outputs": [
    {
     "name": "stdout",
     "output_type": "stream",
     "text": [
      "\tEntering \"userone_grants_to_admin_set_account_detail_permission\"\n",
      "\tEntering \"send_transaction_and_print_status\"\n",
      "Transaction hash = b'1411d3d83e736e692a4e05c35d589809d82c34c01763fed22306421f7ff014fa', creator = userone@domain\n",
      "('ENOUGH_SIGNATURES_COLLECTED', 9, 0)\n",
      "('STATEFUL_VALIDATION_SUCCESS', 3, 0)\n",
      "('COMMITTED', 5, 0)\n",
      "\tLeaving \"send_transaction_and_print_status\"\n",
      "\tLeaving \"userone_grants_to_admin_set_account_detail_permission\"\n"
     ]
    }
   ],
   "source": [
    "userone_grants_to_admin_set_account_detail_permission()"
   ]
  },
  {
   "cell_type": "code",
   "execution_count": 52,
   "metadata": {},
   "outputs": [],
   "source": [
    "def userone_grants_to_admin_set_account_detail_permission():\n",
    "    \"\"\"\n",
    "    Make admin@test able to set detail to userone@domain\n",
    "    \"\"\"\n",
    "    tx = iroha.transaction([\n",
    "        iroha.command('GrantPermission', account_id='fabric@domain',\n",
    "                      permission=can_transfer)\n",
    "    ])\n",
    "    IrohaCrypto.sign_transaction(tx, '9c940a6cd34ae6080ddac6c887197d74fdd8daf80869f9713841064857b20b03')\n",
    "    send_transaction_and_print_status(tx)"
   ]
  },
  {
   "cell_type": "code",
   "execution_count": 53,
   "metadata": {},
   "outputs": [
    {
     "name": "stdout",
     "output_type": "stream",
     "text": [
      "\tEntering \"send_transaction_and_print_status\"\n",
      "Transaction hash = b'65c4493c040ef3eb659017bc3f65759cb1f02dc1720d4a0db50553f477cf106d', creator = admin@test\n",
      "('STATELESS_VALIDATION_FAILED', 0, 0)\n",
      "\tLeaving \"send_transaction_and_print_status\"\n"
     ]
    }
   ],
   "source": [
    "userone_grants_to_admin_set_account_detail_permission()"
   ]
  },
  {
   "cell_type": "code",
   "execution_count": null,
   "metadata": {},
   "outputs": [],
   "source": [
    "set_age_to_userone()\n",
    "get_coin_info()"
   ]
  },
  {
   "cell_type": "code",
   "execution_count": 7,
   "metadata": {},
   "outputs": [
    {
     "name": "stdout",
     "output_type": "stream",
     "text": [
      "\tEntering \"get_account_assets\"\n",
      "Asset id = coin#domain, balance = 6.00\n",
      "\tLeaving \"get_account_assets\"\n"
     ]
    }
   ],
   "source": [
    "get_account_assets()"
   ]
  },
  {
   "cell_type": "code",
   "execution_count": 45,
   "metadata": {},
   "outputs": [],
   "source": [
    "def transfer_coin_from_admin_to_userone():\n",
    "    \"\"\"\n",
    "    Transfer 2.00 'coin#domain' from 'admin@test' to 'userone@domain'\n",
    "    \"\"\"\n",
    "    tx = iroha.transaction([\n",
    "        iroha.command('TransferAsset', src_account_id='office@domain', dest_account_id='fabric@domain',\n",
    "                      asset_id='coin#domain', description='init top up', amount='2.00')\n",
    "    ])\n",
    "    IrohaCrypto.sign_transaction(tx, '9c940a6cd34ae6080ddac6c887197d74fdd8daf80869f9713841064857b20b03')\n",
    "    send_transaction_and_print_status(tx)"
   ]
  },
  {
   "cell_type": "code",
   "execution_count": 46,
   "metadata": {},
   "outputs": [
    {
     "name": "stdout",
     "output_type": "stream",
     "text": [
      "\tEntering \"send_transaction_and_print_status\"\n",
      "Transaction hash = b'013ed4841dd1c904d927a1b544f5523f630930136c7d114907585d1a636fb81e', creator = admin@test\n",
      "('ENOUGH_SIGNATURES_COLLECTED', 9, 0)\n",
      "('STATEFUL_VALIDATION_FAILED', 2, 2)\n",
      "('REJECTED', 4, 0)\n",
      "\tLeaving \"send_transaction_and_print_status\"\n"
     ]
    }
   ],
   "source": [
    "transfer_coin_from_admin_to_userone()"
   ]
  },
  {
   "cell_type": "code",
   "execution_count": null,
   "metadata": {},
   "outputs": [],
   "source": []
  }
 ],
 "metadata": {
  "kernelspec": {
   "display_name": "Python 3",
   "language": "python",
   "name": "python3"
  },
  "language_info": {
   "codemirror_mode": {
    "name": "ipython",
    "version": 3
   },
   "file_extension": ".py",
   "mimetype": "text/x-python",
   "name": "python",
   "nbconvert_exporter": "python",
   "pygments_lexer": "ipython3",
   "version": "3.7.1"
  }
 },
 "nbformat": 4,
 "nbformat_minor": 2
}
