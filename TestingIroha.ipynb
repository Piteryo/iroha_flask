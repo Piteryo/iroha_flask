{
 "cells": [
  {
   "cell_type": "code",
   "execution_count": 1,
   "metadata": {},
   "outputs": [],
   "source": [
    "import sys\n",
    "\n",
    "if sys.version_info[0] < 3:\n",
    "    raise Exception('Python 3 or a more recent version is required.')\n",
    "\n",
    "#from primitive_pb2 import can_set_my_account_detail\n",
    "from irohalib import Iroha, IrohaGrpc\n",
    "from irohalib import IrohaCrypto\n",
    "import binascii"
   ]
  },
  {
   "cell_type": "code",
   "execution_count": 8,
   "metadata": {},
   "outputs": [],
   "source": [
    "ADDRESS = 'localhost'\n",
    "admin_private_key = open('admin@test.priv').read()\n",
    "user_private_key = IrohaCrypto.private_key()\n",
    "user_public_key = IrohaCrypto.derive_public_key(user_private_key)\n",
    "iroha = Iroha('admin@test')"
   ]
  },
  {
   "cell_type": "code",
   "execution_count": 3,
   "metadata": {},
   "outputs": [],
   "source": [
    "def send_transaction_and_print_status(transaction, port):\n",
    "    hex_hash = binascii.hexlify(IrohaCrypto.hash(transaction))\n",
    "    print('Transaction hash = {}, creator = {}'.format(\n",
    "        hex_hash, transaction.payload.reduced_payload.creator_account_id))\n",
    "    net = IrohaGrpc(ADDRESS + ':' + str(port))\n",
    "    net.send_tx(transaction)\n",
    "    for status in net.tx_status_stream(transaction):\n",
    "        print(status)"
   ]
  },
  {
   "cell_type": "code",
   "execution_count": 4,
   "metadata": {},
   "outputs": [],
   "source": [
    "def create_domain_and_asset():\n",
    "    \"\"\"\n",
    "    Creates domain 'domain' and asset 'coin#domain' with precision 2\n",
    "    \"\"\"\n",
    "    commands = [\n",
    "        iroha.command('CreateDomain', domain_id='domain', default_role='user'),\n",
    "        iroha.command('CreateAsset', asset_name='coin',\n",
    "                      domain_id='domain', precision=2)\n",
    "    ]\n",
    "    tx = IrohaCrypto.sign_transaction(\n",
    "        iroha.transaction(commands), admin_private_key)\n",
    "    send_transaction_and_print_status(tx, 50051)\n"
   ]
  },
  {
   "cell_type": "code",
   "execution_count": 5,
   "metadata": {},
   "outputs": [],
   "source": [
    "def add_coin_to_admin():\n",
    "    \"\"\"\n",
    "    Add 1000.00 units of 'coin#domain' to 'admin@test'\n",
    "    \"\"\"\n",
    "    tx = iroha.transaction([\n",
    "        iroha.command('AddAssetQuantity',\n",
    "                      asset_id='coin#domain', amount='1000.00')\n",
    "    ])\n",
    "    IrohaCrypto.sign_transaction(tx, admin_private_key)\n",
    "    send_transaction_and_print_status(tx, 50051)\n"
   ]
  },
  {
   "cell_type": "code",
   "execution_count": 9,
   "metadata": {},
   "outputs": [
    {
     "name": "stdout",
     "output_type": "stream",
     "text": [
      "Transaction hash = b'7e65ddf7993ca0cc36b5de3a09d9c39f9e2d18c96a8da766e220b01491fe69dc', creator = admin@test\n",
      "('ENOUGH_SIGNATURES_COLLECTED', 9, 0)\n",
      "('STATEFUL_VALIDATION_FAILED', 2, 2)\n",
      "('REJECTED', 4, 0)\n"
     ]
    }
   ],
   "source": [
    "create_domain_and_asset()"
   ]
  },
  {
   "cell_type": "code",
   "execution_count": null,
   "metadata": {},
   "outputs": [],
   "source": [
    "def get_account_assets():\n",
    "    \"\"\"\n",
    "    List all the assets of userone@domain\n",
    "    \"\"\"\n",
    "    query = iroha.query('GetAccountAssets', account_id='admin@test')\n",
    "    IrohaCrypto.sign_query(query, admin_private_key)\n",
    "    net = IrohaGrpc(ADDRESS + ':' + str(50051))\n",
    "    response = net.send_query(query)\n",
    "    data = response.account_assets_response.account_assets\n",
    "    for asset in data:\n",
    "        print('Asset id = {}, balance = {}'.format(\n",
    "            asset.asset_id, asset.balance))"
   ]
  },
  {
   "cell_type": "code",
   "execution_count": null,
   "metadata": {},
   "outputs": [],
   "source": [
    "get_account_assets()"
   ]
  },
  {
   "cell_type": "code",
   "execution_count": null,
   "metadata": {},
   "outputs": [],
   "source": []
  },
  {
   "cell_type": "code",
   "execution_count": null,
   "metadata": {},
   "outputs": [],
   "source": []
  },
  {
   "cell_type": "code",
   "execution_count": 55,
   "metadata": {},
   "outputs": [],
   "source": [
    "#!/usr/bin/env python3\n",
    "#\n",
    "# Copyright Soramitsu Co., Ltd. All Rights Reserved.\n",
    "# SPDX-License-Identifier: Apache-2.0\n",
    "#\n",
    "\n",
    "import sys\n",
    "\n",
    "if sys.version_info[0] < 3:\n",
    "    raise Exception('Python 3 or a more recent version is required.')\n",
    "\n",
    "from iroha.primitive_pb2 import can_set_my_account_detail\n",
    "from iroha import Iroha, IrohaGrpc\n",
    "from iroha import IrohaCrypto\n",
    "import binascii\n",
    "\n",
    "admin_private_key = 'f101537e319568c765b2cc89698325604991dca57b9716b58016b253506cab70'\n",
    "user_private_key = IrohaCrypto.private_key()\n",
    "user_public_key = IrohaCrypto.derive_public_key(user_private_key)\n",
    "iroha = Iroha('admin@test')\n",
    "net = IrohaGrpc('127.0.0.1:50051')\n",
    "\n",
    "\n",
    "def trace(func):\n",
    "    \"\"\"\n",
    "    A decorator for tracing methods' begin/end execution points\n",
    "    \"\"\"\n",
    "\n",
    "    def tracer(*args, **kwargs):\n",
    "        name = func.__name__\n",
    "        print('\\tEntering \"{}\"'.format(name))\n",
    "        result = func(*args, **kwargs)\n",
    "        print('\\tLeaving \"{}\"'.format(name))\n",
    "        return result\n",
    "\n",
    "    return tracer\n",
    "\n",
    "\n",
    "@trace\n",
    "def send_transaction_and_print_status(transaction):\n",
    "    hex_hash = binascii.hexlify(IrohaCrypto.hash(transaction))\n",
    "    print('Transaction hash = {}, creator = {}'.format(\n",
    "        hex_hash, transaction.payload.reduced_payload.creator_account_id))\n",
    "    net.send_tx(transaction)\n",
    "    for status in net.tx_status_stream(transaction):\n",
    "        print(status)\n",
    "\n",
    "\n",
    "@trace\n",
    "def create_domain_and_asset():\n",
    "    \"\"\"\n",
    "    Creates domain 'domain' and asset 'coin#domain' with precision 2\n",
    "    \"\"\"\n",
    "    commands = [\n",
    "        iroha.command('CreateDomain', domain_id='domain', default_role='user'),\n",
    "        iroha.command('CreateAsset', asset_name='coin',\n",
    "                      domain_id='domain', precision=2)\n",
    "    ]\n",
    "    tx = IrohaCrypto.sign_transaction(\n",
    "        iroha.transaction(commands), admin_private_key)\n",
    "    send_transaction_and_print_status(tx)\n",
    "\n",
    "\n",
    "@trace\n",
    "def add_coin_to_admin():\n",
    "    \"\"\"\n",
    "    Add 1000.00 units of 'coin#domain' to 'admin@test'\n",
    "    \"\"\"\n",
    "    tx = iroha.transaction([\n",
    "        iroha.command('AddAssetQuantity',\n",
    "                      asset_id='coin#domain', amount='1000.00')\n",
    "    ])\n",
    "    IrohaCrypto.sign_transaction(tx, admin_private_key)\n",
    "    send_transaction_and_print_status(tx)\n",
    "\n",
    "\n",
    "@trace\n",
    "def create_account_userone():\n",
    "    \"\"\"\n",
    "    Create account 'userone@domain'\n",
    "    \"\"\"\n",
    "    tx = iroha.transaction([\n",
    "        iroha.command('CreateAccount', account_name='usertwo', domain_id='domain',\n",
    "                      public_key=user_public_key)\n",
    "    ])\n",
    "    IrohaCrypto.sign_transaction(tx, admin_private_key)\n",
    "    send_transaction_and_print_status(tx)\n",
    "\n",
    "\n",
    "@trace\n",
    "def transfer_coin_from_admin_to_userone():\n",
    "    \"\"\"\n",
    "    Transfer 2.00 'coin#domain' from 'admin@test' to 'userone@domain'\n",
    "    \"\"\"\n",
    "    tx = iroha.transaction([\n",
    "        iroha.command('TransferAsset', src_account_id='admin@test', dest_account_id='userone@domain',\n",
    "                      asset_id='coin#domain', description='init top up', amount='2.00')\n",
    "    ])\n",
    "    IrohaCrypto.sign_transaction(tx, admin_private_key)\n",
    "    send_transaction_and_print_status(tx)\n",
    "\n",
    "\n",
    "@trace\n",
    "def userone_grants_to_admin_set_account_detail_permission():\n",
    "    \"\"\"\n",
    "    Make admin@test able to set detail to userone@domain\n",
    "    \"\"\"\n",
    "    tx = iroha.transaction([\n",
    "        iroha.command('GrantPermission', account_id='admin@test',\n",
    "                      permission=can_set_my_account_detail)\n",
    "    ], creator_account='userone@domain')\n",
    "    IrohaCrypto.sign_transaction(tx, user_private_key)\n",
    "    send_transaction_and_print_status(tx)\n",
    "\n",
    "\n",
    "@trace\n",
    "def set_age_to_userone():\n",
    "    \"\"\"\n",
    "    Set age to userone@domain by admin@test\n",
    "    \"\"\"\n",
    "    tx = iroha.transaction([\n",
    "        iroha.command('SetAccountDetail',\n",
    "                      account_id='userone@domain', key='age', value='18')\n",
    "    ])\n",
    "    IrohaCrypto.sign_transaction(tx, admin_private_key)\n",
    "    send_transaction_and_print_status(tx)\n",
    "\n",
    "\n",
    "@trace\n",
    "def get_coin_info():\n",
    "    \"\"\"\n",
    "    Get asset info for coin#domain\n",
    "    :return:\n",
    "    \"\"\"\n",
    "    query = iroha.query('GetAssetInfo', asset_id='coin#domain')\n",
    "    IrohaCrypto.sign_query(query, admin_private_key)\n",
    "\n",
    "    response = net.send_query(query)\n",
    "    data = response.asset_response.asset\n",
    "    print('Asset id = {}, precision = {}'.format(data.asset_id, data.precision))\n",
    "\n",
    "\n",
    "@trace\n",
    "def get_account_assets():\n",
    "    \"\"\"\n",
    "    List all the assets of userone@domain\n",
    "    \"\"\"\n",
    "    query = iroha.query('GetAccountAssets', account_id='fabric@domain')\n",
    "    IrohaCrypto.sign_query(query, admin_private_key)\n",
    "\n",
    "    response = net.send_query(query)\n",
    "    data = response.account_assets_response.account_assets\n",
    "    for asset in data:\n",
    "        print('Asset id = {}, balance = {}'.format(\n",
    "            asset.asset_id, asset.balance))\n",
    "\n",
    "\n",
    "@trace\n",
    "def get_userone_details():\n",
    "    \"\"\"\n",
    "    Get all the kv-storage entries for userone@domain\n",
    "    \"\"\"\n",
    "    query = iroha.query('GetAccountDetail', account_id='userone@domain')\n",
    "    IrohaCrypto.sign_query(query, admin_private_key)\n",
    "\n",
    "    response = net.send_query(query)\n",
    "    data = response.account_detail_response\n",
    "    print('Account id = {}, details = {}'.format('userone@domain', data.detail))"
   ]
  },
  {
   "cell_type": "code",
   "execution_count": 52,
   "metadata": {},
   "outputs": [],
   "source": [
    "user_private_key = IrohaCrypto.private_key()\n",
    "user_public_key = IrohaCrypto.derive_public_key(user_private_key)"
   ]
  },
  {
   "cell_type": "code",
   "execution_count": 49,
   "metadata": {},
   "outputs": [
    {
     "name": "stdout",
     "output_type": "stream",
     "text": [
      "\tEntering \"create_domain_and_asset\"\n",
      "\tEntering \"send_transaction_and_print_status\"\n",
      "Transaction hash = b'c3666fc526f4f1a17f3deb701dfc5c46fb57e9579ab56dc03d8809751cfaa4e4', creator = admin@test\n",
      "('ENOUGH_SIGNATURES_COLLECTED', 9, 0)\n",
      "('STATEFUL_VALIDATION_FAILED', 2, 3)\n",
      "('REJECTED', 4, 0)\n",
      "\tLeaving \"send_transaction_and_print_status\"\n",
      "\tLeaving \"create_domain_and_asset\"\n"
     ]
    }
   ],
   "source": [
    "create_domain_and_asset()"
   ]
  },
  {
   "cell_type": "code",
   "execution_count": 53,
   "metadata": {},
   "outputs": [
    {
     "data": {
      "text/plain": [
       "b'85f0ebe85f343c183d44f00024a14e46031b591d35ea0d8de852796d143f8713'"
      ]
     },
     "execution_count": 53,
     "metadata": {},
     "output_type": "execute_result"
    }
   ],
   "source": [
    "user_public_key"
   ]
  },
  {
   "cell_type": "code",
   "execution_count": 50,
   "metadata": {},
   "outputs": [
    {
     "name": "stdout",
     "output_type": "stream",
     "text": [
      "\tEntering \"add_coin_to_admin\"\n",
      "\tEntering \"send_transaction_and_print_status\"\n",
      "Transaction hash = b'afac8c17f408c779cc12be58bef790ed6879d88b56a754b120fde67cf8cc8ea4', creator = admin@test\n",
      "('ENOUGH_SIGNATURES_COLLECTED', 9, 0)\n",
      "('STATEFUL_VALIDATION_SUCCESS', 3, 0)\n",
      "('COMMITTED', 5, 0)\n",
      "\tLeaving \"send_transaction_and_print_status\"\n",
      "\tLeaving \"add_coin_to_admin\"\n"
     ]
    }
   ],
   "source": [
    "add_coin_to_admin()"
   ]
  },
  {
   "cell_type": "code",
   "execution_count": 54,
   "metadata": {},
   "outputs": [
    {
     "name": "stdout",
     "output_type": "stream",
     "text": [
      "\tEntering \"create_account_userone\"\n",
      "\tEntering \"send_transaction_and_print_status\"\n",
      "Transaction hash = b'beff2e67324614ccd62d57e79c8fec7bbc47e018c567ff93fa4848bf25b9d931', creator = admin@test\n",
      "('ENOUGH_SIGNATURES_COLLECTED', 9, 0)\n",
      "('STATEFUL_VALIDATION_FAILED', 2, 4)\n",
      "('REJECTED', 4, 0)\n",
      "\tLeaving \"send_transaction_and_print_status\"\n",
      "\tLeaving \"create_account_userone\"\n"
     ]
    }
   ],
   "source": [
    "create_account_userone()"
   ]
  },
  {
   "cell_type": "code",
   "execution_count": 30,
   "metadata": {},
   "outputs": [
    {
     "name": "stdout",
     "output_type": "stream",
     "text": [
      "\tEntering \"transfer_coin_from_admin_to_userone\"\n",
      "\tEntering \"send_transaction_and_print_status\"\n",
      "Transaction hash = b'2a351a8fbdaf1db230e0a4755590f0d3b4a1cd537bbd5f5a6a963f55216c4dce', creator = admin@test\n",
      "('ENOUGH_SIGNATURES_COLLECTED', 9, 0)\n",
      "('STATEFUL_VALIDATION_SUCCESS', 3, 0)\n",
      "('COMMITTED', 5, 0)\n",
      "\tLeaving \"send_transaction_and_print_status\"\n",
      "\tLeaving \"transfer_coin_from_admin_to_userone\"\n"
     ]
    }
   ],
   "source": [
    "transfer_coin_from_admin_to_userone()"
   ]
  },
  {
   "cell_type": "code",
   "execution_count": 15,
   "metadata": {},
   "outputs": [
    {
     "name": "stdout",
     "output_type": "stream",
     "text": [
      "\tEntering \"userone_grants_to_admin_set_account_detail_permission\"\n",
      "\tEntering \"send_transaction_and_print_status\"\n",
      "Transaction hash = b'1411d3d83e736e692a4e05c35d589809d82c34c01763fed22306421f7ff014fa', creator = userone@domain\n",
      "('ENOUGH_SIGNATURES_COLLECTED', 9, 0)\n",
      "('STATEFUL_VALIDATION_SUCCESS', 3, 0)\n",
      "('COMMITTED', 5, 0)\n",
      "\tLeaving \"send_transaction_and_print_status\"\n",
      "\tLeaving \"userone_grants_to_admin_set_account_detail_permission\"\n"
     ]
    }
   ],
   "source": [
    "userone_grants_to_admin_set_account_detail_permission()"
   ]
  },
  {
   "cell_type": "code",
   "execution_count": null,
   "metadata": {},
   "outputs": [],
   "source": [
    "set_age_to_userone()\n",
    "get_coin_info()"
   ]
  },
  {
   "cell_type": "code",
   "execution_count": 56,
   "metadata": {},
   "outputs": [
    {
     "name": "stdout",
     "output_type": "stream",
     "text": [
      "\tEntering \"get_account_assets\"\n",
      "\tLeaving \"get_account_assets\"\n"
     ]
    }
   ],
   "source": [
    "get_account_assets()"
   ]
  },
  {
   "cell_type": "code",
   "execution_count": null,
   "metadata": {},
   "outputs": [],
   "source": [
    "get_userone_details()\n",
    "\n",
    "print('done')"
   ]
  }
 ],
 "metadata": {
  "kernelspec": {
   "display_name": "Python 3",
   "language": "python",
   "name": "python3"
  },
  "language_info": {
   "codemirror_mode": {
    "name": "ipython",
    "version": 3
   },
   "file_extension": ".py",
   "mimetype": "text/x-python",
   "name": "python",
   "nbconvert_exporter": "python",
   "pygments_lexer": "ipython3",
   "version": "3.7.1"
  }
 },
 "nbformat": 4,
 "nbformat_minor": 2
}
